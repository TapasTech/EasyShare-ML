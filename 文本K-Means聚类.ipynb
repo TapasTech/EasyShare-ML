{
 "cells": [
  {
   "cell_type": "code",
   "execution_count": 1,
   "metadata": {},
   "outputs": [],
   "source": [
    "import jieba, re\n",
    "import numpy as np\n",
    "import pandas as pd\n",
    "import matplotlib.pyplot as plt\n",
    "from wordcloud import WordCloud\n",
    "from sklearn.feature_extraction.text import TfidfVectorizer\n",
    "from sklearn.cluster import KMeans\n"
   ]
  },
  {
   "cell_type": "code",
   "execution_count": 2,
   "metadata": {},
   "outputs": [],
   "source": [
    "df = pd.read_csv(\"score_3.csv\")\n",
    "content = df['content'].head(1000).dropna()"
   ]
  },
  {
   "cell_type": "code",
   "execution_count": 3,
   "metadata": {},
   "outputs": [],
   "source": [
    "with open('stopwords.txt') as f:\n",
    "    stopwords = f.read().splitlines()"
   ]
  },
  {
   "cell_type": "code",
   "execution_count": 4,
   "metadata": {},
   "outputs": [],
   "source": [
    "def tokenize(sentence):\n",
    "    without_duplicates = re.sub(r'(.)\\1+', r'\\1\\1', sentence)\n",
    "    without_punctuation = re.sub(r'[^\\w]', '', without_duplicates)\n",
    "    return jieba.lcut(without_punctuation)"
   ]
  },
  {
   "cell_type": "code",
   "execution_count": 5,
   "metadata": {},
   "outputs": [
    {
     "name": "stderr",
     "output_type": "stream",
     "text": [
      "Building prefix dict from the default dictionary ...\n",
      "Loading model from cache /var/folders/kf/czq3bwv96k7__xcnjrbpf33c0000gp/T/jieba.cache\n",
      "Loading model cost 0.921 seconds.\n",
      "Prefix dict has been built succesfully.\n",
      "/Users/kgd/.pyenv/versions/3.6.6/lib/python3.6/site-packages/sklearn/feature_extraction/text.py:300: UserWarning: Your stop_words may be inconsistent with your preprocessing. Tokenizing the stop words generated tokens ['\\\\', 'n', '借傥', '兼', '前', '唷', '啪', '啷', '喔', '天', '始', '漫', '然', '特', '竟', '莫', '见', '设', '达'] not in stop_words.\n",
      "  'stop_words.' % sorted(inconsistent))\n"
     ]
    }
   ],
   "source": [
    "vectorizer = TfidfVectorizer(stop_words=stopwords, tokenizer=jieba.lcut)\n",
    "X = vectorizer.fit_transform(content)"
   ]
  },
  {
   "cell_type": "code",
   "execution_count": 7,
   "metadata": {},
   "outputs": [
    {
     "name": "stdout",
     "output_type": "stream",
     "text": [
      "  (0, 5169)\t0.15326407765011477\n",
      "  (0, 3656)\t0.21272541740292505\n",
      "  (0, 5637)\t0.07988358999296995\n",
      "  (0, 835)\t0.32998132960343285\n",
      "  (0, 2515)\t0.12395669640455806\n",
      "  (0, 2929)\t0.33277486323623934\n",
      "  (0, 3611)\t0.21867203798388063\n",
      "  (0, 2136)\t0.15668231880219666\n",
      "  (0, 1703)\t0.2821012092936038\n",
      "  (0, 3641)\t0.33277486323623934\n",
      "  (0, 1825)\t0.2821012092936038\n",
      "  (0, 2967)\t0.300803347241647\n",
      "  (0, 5388)\t0.33277486323623934\n",
      "  (0, 372)\t0.18161607880201164\n",
      "  (0, 966)\t0.300803347241647\n",
      "  (0, 3906)\t0.15141882568726664\n"
     ]
    }
   ],
   "source": [
    "print(X[3:4])"
   ]
  },
  {
   "cell_type": "code",
   "execution_count": null,
   "metadata": {},
   "outputs": [],
   "source": []
  },
  {
   "cell_type": "code",
   "execution_count": null,
   "metadata": {},
   "outputs": [],
   "source": []
  },
  {
   "cell_type": "code",
   "execution_count": 8,
   "metadata": {},
   "outputs": [],
   "source": [
    "centers = range(20, 30)\n",
    "models = [KMeans(n_clusters=i) for i in centers]\n",
    "score = [models[i].fit(X).score(X) for i in range(len(models))]"
   ]
  },
  {
   "cell_type": "code",
   "execution_count": 9,
   "metadata": {},
   "outputs": [
    {
     "data": {
      "text/plain": [
       "[<matplotlib.lines.Line2D at 0x11ff9c6d8>]"
      ]
     },
     "execution_count": 9,
     "metadata": {},
     "output_type": "execute_result"
    },
    {
     "data": {
      "image/png": "[encoded data removed]",
      "text/plain": [
       "<Figure size 432x288 with 1 Axes>"
      ]
     },
     "metadata": {
      "needs_background": "light"
     },
     "output_type": "display_data"
    }
   ],
   "source": [
    "plt.gca().invert_yaxis()\n",
    "plt.plot(score)"
   ]
  },
  {
   "cell_type": "code",
   "execution_count": 13,
   "metadata": {},
   "outputs": [
    {
     "name": "stdout",
     "output_type": "stream",
     "text": [
      "Top terms per cluster:\n",
      "X\n",
      "Cluster 0: 不好 服务 态度 设施 周边环境 行 沟通 酒店 床太硬 延迟 航班 觉 店 房间 退\n",
      "X\n",
      "Cluster 1: 价格 一个 房间 贵 酒店 很小 极其 差 高 两个 一天 成正比 符合 相符 大柱子\n",
      "X\n",
      "Cluster 2: \n",
      " 酒店 . 没有 服务员 房间   入住 一一 建议 真的 差 前台 不想 携程\n",
      "X\n",
      "Cluster 3: 不会 味道 住 酒店 房间 入住 重 非常 装修 再来 没有 无可奈何 之差 再住 下次\n"
     ]
    }
   ],
   "source": [
    "print(\"Top terms per cluster:\")\n",
    "order_centroids = models[8].cluster_centers_.argsort()[:, ::-1]\n",
    "terms = vectorizer.get_feature_names()\n",
    "for i in range(4):\n",
    "    print(\"X\")\n",
    "    top_ten_words = [terms[ind] for ind in order_centroids[i, :15]]\n",
    "    print(\"Cluster {}: {}\".format(i, ' '.join(top_ten_words)))"
   ]
  },
  {
   "cell_type": "code",
   "execution_count": null,
   "metadata": {},
   "outputs": [],
   "source": []
  }
 ],
 "metadata": {
  "kernelspec": {
   "display_name": "Python 3",
   "language": "python",
   "name": "python3"
  },
  "language_info": {
   "codemirror_mode": {
    "name": "ipython",
    "version": 3
   },
   "file_extension": ".py",
   "mimetype": "text/x-python",
   "name": "python",
   "nbconvert_exporter": "python",
   "pygments_lexer": "ipython3",
   "version": "3.6.6"
  }
 },
 "nbformat": 4,
 "nbformat_minor": 2
}
