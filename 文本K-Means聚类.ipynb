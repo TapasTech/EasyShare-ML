{
 "cells": [
  {
   "cell_type": "code",
   "execution_count": 1,
   "metadata": {},
   "outputs": [],
   "source": [
    "import jieba, re\n",
    "import numpy as np\n",
    "import pandas as pd\n",
    "import matplotlib.pyplot as plt\n",
    "from wordcloud import WordCloud\n",
    "from sklearn.feature_extraction.text import TfidfVectorizer\n",
    "from sklearn.cluster import KMeans\n"
   ]
  },
  {
   "cell_type": "code",
   "execution_count": 2,
   "metadata": {},
   "outputs": [],
   "source": [
    "df = pd.read_csv(\"score_3.csv\")\n",
    "content = df['content'].head(1000).dropna()"
   ]
  },
  {
   "cell_type": "code",
   "execution_count": 3,
   "metadata": {},
   "outputs": [],
   "source": [
    "with open('stopwords.txt') as f:\n",
    "    stopwords = f.read().splitlines()"
   ]
  },
  {
   "cell_type": "code",
   "execution_count": 4,
   "metadata": {},
   "outputs": [],
   "source": [
    "def tokenize(sentence):\n",
    "    without_duplicates = re.sub(r'(.)\\1+', r'\\1\\1', sentence)\n",
    "    without_punctuation = re.sub(r'[^\\w]', '', without_duplicates)\n",
    "    return jieba.lcut(without_punctuation)"
   ]
  },
  {
   "cell_type": "code",
   "execution_count": 5,
   "metadata": {},
   "outputs": [
    {
     "name": "stderr",
     "output_type": "stream",
     "text": [
      "Building prefix dict from the default dictionary ...\n",
      "Loading model from cache /var/folders/kf/czq3bwv96k7__xcnjrbpf33c0000gp/T/jieba.cache\n",
      "Loading model cost 0.899 seconds.\n",
      "Prefix dict has been built succesfully.\n",
      "/Users/kgd/.pyenv/versions/3.6.6/lib/python3.6/site-packages/sklearn/feature_extraction/text.py:1059: FutureWarning: Conversion of the second argument of issubdtype from `float` to `np.floating` is deprecated. In future, it will be treated as `np.float64 == np.dtype(float).type`.\n",
      "  if hasattr(X, 'dtype') and np.issubdtype(X.dtype, np.float):\n"
     ]
    }
   ],
   "source": [
    "vectorizer = TfidfVectorizer(stop_words=stopwords, tokenizer=jieba.lcut)\n",
    "X = vectorizer.fit_transform(content)"
   ]
  },
  {
   "cell_type": "code",
   "execution_count": 24,
   "metadata": {},
   "outputs": [
    {
     "name": "stdout",
     "output_type": "stream",
     "text": [
      "这酒店价格高，无所谓但酒店房间很多灰尘。还有水龙头也是坏的，叫吧台换房间，吧台的人很没有礼貌的没有回答，房间没有像携程说的4.6分。房间里又没有信号连4G都上不了，被子一拍还有很多灰尘飘出来我也真的醉了。\n",
      "我从来没有给过这么差评的酒店。\n",
      "#卫生差#\n"
     ]
    }
   ],
   "source": [
    "print(content[2])"
   ]
  },
  {
   "cell_type": "code",
   "execution_count": null,
   "metadata": {},
   "outputs": [],
   "source": []
  },
  {
   "cell_type": "code",
   "execution_count": 7,
   "metadata": {},
   "outputs": [
    {
     "name": "stdout",
     "output_type": "stream",
     "text": [
      "  (0, 1310)\t0.1881518938081117\n",
      "  (0, 953)\t0.19845673925952148\n",
      "  (0, 1440)\t0.09381010473445758\n",
      "  (0, 223)\t0.3432076926885098\n",
      "  (0, 659)\t0.1716038463442549\n",
      "  (0, 769)\t0.3036152911112978\n",
      "  (0, 940)\t0.25411694494353915\n",
      "  (0, 564)\t0.20433601287806233\n",
      "  (0, 440)\t0.2786038986426942\n",
      "  (0, 948)\t0.3036152911112978\n",
      "  (0, 482)\t0.2786038986426942\n",
      "  (0, 778)\t0.2786038986426942\n",
      "  (0, 1368)\t0.3036152911112978\n",
      "  (0, 94)\t0.21810077543629663\n",
      "  (0, 253)\t0.2786038986426942\n",
      "  (0, 1017)\t0.16807799049908945\n"
     ]
    }
   ],
   "source": [
    "print(X[3:4])"
   ]
  },
  {
   "cell_type": "code",
   "execution_count": null,
   "metadata": {},
   "outputs": [],
   "source": []
  },
  {
   "cell_type": "code",
   "execution_count": null,
   "metadata": {},
   "outputs": [],
   "source": []
  },
  {
   "cell_type": "code",
   "execution_count": 21,
   "metadata": {},
   "outputs": [],
   "source": [
    "centers = range(20, 30)\n",
    "models = [KMeans(n_clusters=i) for i in centers]\n",
    "score = [models[i].fit(X).score(X) for i in range(len(models))]"
   ]
  },
  {
   "cell_type": "code",
   "execution_count": 22,
   "metadata": {},
   "outputs": [
    {
     "data": {
      "text/plain": [
       "[<matplotlib.lines.Line2D at 0x124dc13c8>]"
      ]
     },
     "execution_count": 22,
     "metadata": {},
     "output_type": "execute_result"
    },
    {
     "data": {
      "image/png": "[encoded data removed]",
      "text/plain": [
       "<Figure size 432x288 with 1 Axes>"
      ]
     },
     "metadata": {
      "needs_background": "light"
     },
     "output_type": "display_data"
    }
   ],
   "source": [
    "plt.gca().invert_yaxis()\n",
    "plt.plot(score)"
   ]
  },
  {
   "cell_type": "code",
   "execution_count": 12,
   "metadata": {},
   "outputs": [
    {
     "name": "stdout",
     "output_type": "stream",
     "text": [
      "[-91.30796658680167, -89.96139164108536, -88.79313840020815, -87.47805325812494, -86.41830013205143, -84.99733303387471, -83.89055497771714, -82.59768063631086]\n"
     ]
    }
   ],
   "source": [
    "print(score)"
   ]
  },
  {
   "cell_type": "code",
   "execution_count": null,
   "metadata": {},
   "outputs": [],
   "source": [
    "plt.plot(-score)"
   ]
  },
  {
   "cell_type": "code",
   "execution_count": null,
   "metadata": {},
   "outputs": [],
   "source": [
    "print(\"Top terms per cluster:\")\n",
    "order_centroids = km[14].cluster_centers_.argsort()[:, ::-1]\n",
    "terms = vectorizer.get_feature_names()\n",
    "for i in range(4):\n",
    "    print(\"X\")\n",
    "    top_ten_words = [terms[ind] for ind in order_centroids[i, :15]]\n",
    "    print(\"Cluster {}: {}\".format(i, ' '.join(top_ten_words)))"
   ]
  },
  {
   "cell_type": "code",
   "execution_count": null,
   "metadata": {},
   "outputs": [],
   "source": [
    "[terms[ind] for ind in order_centroids[0, :15]]"
   ]
  },
  {
   "cell_type": "code",
   "execution_count": null,
   "metadata": {},
   "outputs": [],
   "source": [
    "[terms[i] for i in order_centroids[:5].flatten()]"
   ]
  },
  {
   "cell_type": "code",
   "execution_count": null,
   "metadata": {},
   "outputs": [],
   "source": []
  },
  {
   "cell_type": "code",
   "execution_count": null,
   "metadata": {},
   "outputs": [],
   "source": [
    "# myfont = FontProperties(size=12,fname=)\n",
    "\n",
    "def drawWordcloud(words):\n",
    "    my_wordcloud = WordCloud(font_path='SimHei.ttf').generate(words)\n",
    "    plt.imshow(my_wordcloud, interpolation='bilinear')\n",
    "    plt.axis(\"off\")\n",
    "    plt.show()\n",
    "\n",
    "drawWordcloud()"
   ]
  },
  {
   "cell_type": "code",
   "execution_count": null,
   "metadata": {},
   "outputs": [],
   "source": []
  }
 ],
 "metadata": {
  "kernelspec": {
   "display_name": "Python 3",
   "language": "python",
   "name": "python3"
  },
  "language_info": {
   "codemirror_mode": {
    "name": "ipython",
    "version": 3
   },
   "file_extension": ".py",
   "mimetype": "text/x-python",
   "name": "python",
   "nbconvert_exporter": "python",
   "pygments_lexer": "ipython3",
   "version": "3.6.6"
  }
 },
 "nbformat": 4,
 "nbformat_minor": 2
}
