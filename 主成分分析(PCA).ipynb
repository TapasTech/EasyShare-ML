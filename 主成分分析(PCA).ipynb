{
 "cells": [
  {
   "cell_type": "markdown",
   "metadata": {},
   "source": [
    "# 主成分分析与数据降维(2019.8.6 Workshop)"
   ]
  },
  {
   "cell_type": "markdown",
   "metadata": {},
   "source": [
    "- 时间8.6 14:30\\-15:30，地点26楼【C语言】会议室\n",
    "- 形式与时间分配：30分钟简述原理与应用，30分钟实践与问题讨论\n",
    "- Keywords：数据降维，信息压缩，协方差矩阵，奇异值分解\n",
    "- 所需环境：`Python3`, `Jupyter Notebook`, `sklearn`, `matplotlib`"
   ]
  },
  {
   "cell_type": "markdown",
   "metadata": {},
   "source": [
    "### 讨论\n",
    "- 什么是“数据的维度”？\n",
    "- 有没有遇到过数据的维度过高的情况？\n",
    "- 数据的维度之间是否存在信息冗余？\n",
    "    - 例如：二手房的数据字段\n",
    "- 如何消除或减少冗余的信息？"
   ]
  },
  {
   "cell_type": "markdown",
   "metadata": {},
   "source": [
    "## PCA应用场景\n",
    "- 降低数据集的维度\n",
    "    - 简化数据分析的复杂度\n",
    "    - 减少机器计算时间\n",
    "- 压缩数据\n",
    "    - 无损压缩与有损压缩\n",
    "    - 在压缩的同时保留最重要的信息\n",
    "- 发现未知的关键特征\n",
    "    - 从原始的数字段中发现和提取新的特征(feature)，用于训练模型\n",
    "- 探索性数据分析([Exploratory data analysis](https://en.wikipedia.org/wiki/Exploratory_data_analysis))\n",
    "- 过滤数据中的噪音\n",
    "\n",
    "### PCA的缺点和局限性\n",
    "- 容易受到异常数据的影响\n",
    "- 更加健壮的PCA模型：RandomizedPCA, sparsePCA "
   ]
  },
  {
   "cell_type": "markdown",
   "metadata": {},
   "source": [
    "## PCA的实现方法\n",
    "- 方法一：协方差矩阵的特征分解\n",
    "    1. 数据归一化\n",
    "    2. 计算[协方差矩阵](https://en.wikipedia.org/wiki/Covariance_matrix)\n",
    "    3. 对协方差矩阵进行特征分解\n",
    "- 方法二：奇异值分解\n",
    "    - 特征值 & 奇异值\n",
    "    - 奇异向量 & 酉矩阵"
   ]
  },
  {
   "cell_type": "markdown",
   "metadata": {},
   "source": [
    "### **Demo: 鸢尾花(Iris)数据集**\n",
    "- 三种鸢尾花品种：杂色鸢尾(Versicolour), 山鸢尾(Setosa), 维吉尼亚鸢尾(Virginica)\n",
    "- Kaggle比赛中的[Iris Dataset](https://www.kaggle.com/uciml/iris)\n",
    "- [某选手使用决策树对Iris进行分类](https://diwashrestha.com/2017/09/18/machine-learning-on-iris/)"
   ]
  },
  {
   "cell_type": "markdown",
   "metadata": {},
   "source": [
    "![Iris](https://diwashrestha.com/wp-content/uploads/2017/09/images.jpg)"
   ]
  },
  {
   "cell_type": "code",
   "execution_count": 1,
   "metadata": {},
   "outputs": [],
   "source": [
    "# !pip install numpy pandas sklearn matplotlib opencv-python ipywidgets"
   ]
  },
  {
   "cell_type": "code",
   "execution_count": 2,
   "metadata": {},
   "outputs": [],
   "source": [
    "import numpy as np\n",
    "from sklearn import datasets\n",
    "from sklearn.decomposition import PCA\n",
    "import matplotlib.pyplot as plt\n",
    "from mpl_toolkits.mplot3d import Axes3D\n",
    "from ipywidgets import interact, widgets\n",
    "\n",
    "%matplotlib inline\n",
    "%config InlineBackend.figure_format='retina'\n",
    "plt.style.use('ggplot')"
   ]
  },
  {
   "cell_type": "code",
   "execution_count": 3,
   "metadata": {},
   "outputs": [],
   "source": [
    "iris = datasets.load_iris()"
   ]
  },
  {
   "cell_type": "markdown",
   "metadata": {},
   "source": [
    "**鸢尾花分类名称**"
   ]
  },
  {
   "cell_type": "code",
   "execution_count": 4,
   "metadata": {},
   "outputs": [
    {
     "data": {
      "text/plain": [
       "array(['setosa', 'versicolor', 'virginica'], dtype='<U10')"
      ]
     },
     "execution_count": 4,
     "metadata": {},
     "output_type": "execute_result"
    }
   ],
   "source": [
    "iris['target_names']"
   ]
  },
  {
   "cell_type": "markdown",
   "metadata": {},
   "source": [
    "**鸢尾花特征**\n",
    "- 萼片长度(sepal length)\n",
    "- 萼片宽度(sepal width)\n",
    "- 花瓣长度(petal length)\n",
    "- 花瓣宽度(petal width)"
   ]
  },
  {
   "cell_type": "code",
   "execution_count": 5,
   "metadata": {},
   "outputs": [
    {
     "data": {
      "text/plain": [
       "['sepal length (cm)',\n",
       " 'sepal width (cm)',\n",
       " 'petal length (cm)',\n",
       " 'petal width (cm)']"
      ]
     },
     "execution_count": 5,
     "metadata": {},
     "output_type": "execute_result"
    }
   ],
   "source": [
    "iris['feature_names']"
   ]
  },
  {
   "cell_type": "markdown",
   "metadata": {},
   "source": [
    "**二维空间对两个特征进行可视化**"
   ]
  },
  {
   "cell_type": "code",
   "execution_count": 22,
   "metadata": {},
   "outputs": [
    {
     "data": {
      "application/vnd.jupyter.widget-view+json": {
       "model_id": "48d0dd56af1b43a79a69febcd005ff69",
       "version_major": 2,
       "version_minor": 0
      },
      "text/plain": [
       "interactive(children=(Select(description='feature1', options=(0, 1, 2, 3), value=0), Select(description='featu…"
      ]
     },
     "metadata": {},
     "output_type": "display_data"
    }
   ],
   "source": [
    "X = iris.data\n",
    "y = iris.target\n",
    "\n",
    "@interact(\n",
    "    feature1=widgets.Select(value=0, options=[i for i in range(4)]),\n",
    "    feature2=widgets.Select(value=1, options=[i for i in range(4)]),\n",
    ")\n",
    "def visulize_features(feature1=0, feature2=1):\n",
    "    \n",
    "    plt.figure()\n",
    "    plt.scatter(X[:, feature1], X[:, feature2], c=y, cmap='PiYG_r', edgecolor='k');\n",
    "    plt.xlabel(iris['feature_names'][feature1]);\n",
    "    plt.ylabel(iris['feature_names'][feature2]);\n",
    "    plt.show()"
   ]
  },
  {
   "cell_type": "code",
   "execution_count": 35,
   "metadata": {
    "scrolled": false
   },
   "outputs": [
    {
     "data": {
      "application/vnd.jupyter.widget-view+json": {
       "model_id": "0c08cab751d148c3aea16472f5e001aa",
       "version_major": 2,
       "version_minor": 0
      },
      "text/plain": [
       "interactive(children=(IntText(value=-90, description='elevation', step=5), IntText(value=90, description='azim…"
      ]
     },
     "metadata": {},
     "output_type": "display_data"
    }
   ],
   "source": [
    "X_reduced = PCA(n_components=3, svd_solver='full').fit_transform(iris.data)\n",
    "y = iris.target\n",
    "@interact(\n",
    "    elevation=widgets.IntText(value=-90, step=5),\n",
    "    azimuth=widgets.IntText(value=90, step=5)\n",
    ")\n",
    "def visualize_pca_iris(elevation=-150, azimuth=110):\n",
    "    \n",
    "    fig = plt.figure(1, figsize=(10, 6))\n",
    "    ax = Axes3D(fig, elev=elevation, azim=azimuth)\n",
    "    ax.scatter(X_reduced[:, 0], X_reduced[:, 1], X_reduced[:, 2], c=y, cmap='PiYG_r', edgecolor='k', s=40)\n",
    "    ax.set_title(\"First three PCA directions\")\n",
    "    ax.set_xlabel(\"1st eigenvector\")\n",
    "    ax.set_ylabel(\"2nd eigenvector\")\n",
    "    ax.set_zlabel(\"3rd eigenvector\")\n",
    "    plt.show()"
   ]
  },
  {
   "cell_type": "markdown",
   "metadata": {},
   "source": [
    "### Session1"
   ]
  },
  {
   "cell_type": "markdown",
   "metadata": {},
   "source": [
    "- 尝试使用`numpy`中的奇异值分解`np.linalg.svd`方法重现Iris数据的PCA"
   ]
  },
  {
   "cell_type": "code",
   "execution_count": 34,
   "metadata": {},
   "outputs": [],
   "source": [
    "# 修改这部分代码完成\n",
    "# U, D, V = np.linalg.svd(X)\n"
   ]
  },
  {
   "cell_type": "markdown",
   "metadata": {},
   "source": [
    "### Session2 : 对以下合成数据进行PCA"
   ]
  },
  {
   "cell_type": "code",
   "execution_count": 8,
   "metadata": {},
   "outputs": [
    {
     "data": {
      "image/png": "[encoded data removed]",
      "text/plain": [
       "<Figure size 360x360 with 1 Axes>"
      ]
     },
     "metadata": {
      "image/png": {
       "height": 304,
       "width": 332
      },
      "needs_background": "light"
     },
     "output_type": "display_data"
    }
   ],
   "source": [
    "np.random.seed(46)\n",
    "num_data = 100\n",
    "SNR = 6 # 信噪比\n",
    "noise2d = np.random.randn(num_data,2) * 1/SNR\n",
    "signal_direction = 0.6\n",
    "signal2d = signal_direction * np.linspace(-1, 1 ,num_data)\n",
    "x = signal2d + noise2d[:,0]\n",
    "y = signal2d + noise2d[:,1]\n",
    "plt.figure(figsize=(5,5))\n",
    "plt.scatter(x, y);\n",
    "plt.axis('equal');"
   ]
  },
  {
   "cell_type": "code",
   "execution_count": null,
   "metadata": {},
   "outputs": [],
   "source": []
  },
  {
   "cell_type": "code",
   "execution_count": null,
   "metadata": {},
   "outputs": [],
   "source": []
  },
  {
   "cell_type": "code",
   "execution_count": null,
   "metadata": {},
   "outputs": [],
   "source": []
  },
  {
   "cell_type": "code",
   "execution_count": null,
   "metadata": {},
   "outputs": [],
   "source": []
  },
  {
   "cell_type": "code",
   "execution_count": null,
   "metadata": {},
   "outputs": [],
   "source": []
  }
 ],
 "metadata": {
  "kernelspec": {
   "display_name": "Python 3",
   "language": "python",
   "name": "python3"
  },
  "language_info": {
   "codemirror_mode": {
    "name": "ipython",
    "version": 3
   },
   "file_extension": ".py",
   "mimetype": "text/x-python",
   "name": "python",
   "nbconvert_exporter": "python",
   "pygments_lexer": "ipython3",
   "version": "3.6.6"
  }
 },
 "nbformat": 4,
 "nbformat_minor": 2
}
