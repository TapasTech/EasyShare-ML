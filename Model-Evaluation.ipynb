{
 "cells": [
  {
   "cell_type": "markdown",
   "metadata": {},
   "source": [
    "# 机器学习模型的评估"
   ]
  },
  {
   "cell_type": "markdown",
   "metadata": {},
   "source": [
    "## 往期回顾"
   ]
  },
  {
   "cell_type": "markdown",
   "metadata": {},
   "source": [
    "#### 机器学习的三要素"
   ]
  },
  {
   "cell_type": "markdown",
   "metadata": {},
   "source": [
    "- 经验 (Expierence)  \n",
    "- 任务 (Task)  \n",
    "- 性能 (Performance)"
   ]
  },
  {
   "cell_type": "markdown",
   "metadata": {},
   "source": [
    "#### 所解决的问题类型"
   ]
  },
  {
   "cell_type": "markdown",
   "metadata": {},
   "source": [
    "- 监督式学习（Supervised Learning)  \n",
    "    - 回归  \n",
    "    - 分类  \n",
    "- 非监督学习（Unsupervised Learning）  \n",
    "    - 聚类\n",
    "    - 非聚类\n",
    "- 半监督学习 (Semi-supervised Learning)  \n",
    "    - 协同过滤\n",
    "- 强化学习 (Reinforcement Learning)  \n",
    "    - 反馈机制：Alpha-Zero, AI打Dota"
   ]
  },
  {
   "cell_type": "markdown",
   "metadata": {},
   "source": [
    "### 线性回归  (Linear Regression)"
   ]
  },
  {
   "cell_type": "markdown",
   "metadata": {},
   "source": [
    "#### 解析法：正规方程"
   ]
  },
  {
   "cell_type": "markdown",
   "metadata": {},
   "source": [
    "- 各个维度的偏导数均为0的数学解  \n",
    "- 算法复杂度：$ O(n^3) $    \n",
    "- 计算公式：$ \\theta = (X^T X)^{-1} X^T Y $"
   ]
  },
  {
   "cell_type": "markdown",
   "metadata": {},
   "source": [
    "#### 数值法"
   ]
  },
  {
   "cell_type": "markdown",
   "metadata": {},
   "source": [
    "假设函数 (Hypothesis Function)  \n",
    "$ \\hat{y} = h(x)=\\theta_1 x + \\theta_0 $"
   ]
  },
  {
   "cell_type": "markdown",
   "metadata": {},
   "source": [
    "代价函数 (Cost Function)  \n",
    "$ J_\\theta = \\frac{1}{2m} \\sum_{i=1}^{m}((\\hat{y} - y^i)^2) $  "
   ]
  },
  {
   "cell_type": "markdown",
   "metadata": {},
   "source": [
    "##### 梯度下降法"
   ]
  },
  {
   "cell_type": "markdown",
   "metadata": {},
   "source": [
    "宏观思想：选取合适的初始值与学习率，不断迭代  \n",
    "算法复杂度：$ O(n^2) $  \n",
    "- 梯度 $ \\frac{\\partial{J}}{\\partial{\\theta}} $ \n",
    "- 学习率 $ \\alpha $\n",
    "- 迭代公式 $ \\theta_j := \\theta_j - \\alpha\\frac{\\partial{J}}{\\partial{\\theta_j}} $  "
   ]
  },
  {
   "cell_type": "markdown",
   "metadata": {},
   "source": [
    "### 逻辑回归"
   ]
  },
  {
   "cell_type": "markdown",
   "metadata": {},
   "source": [
    "#### 决策边界 (decision boundary)\n",
    "<img src=\"./images/LR-decision-boundary.png\" align=\"left\" />"
   ]
  },
  {
   "cell_type": "markdown",
   "metadata": {},
   "source": [
    "#### Sigmoid函数   \n",
    "公式：$ S(x)=\\frac{1}{1+e^{-x}} $  \n",
    "<img src=\"./images/sigmoid.png\" align=\"left\" />"
   ]
  },
  {
   "cell_type": "markdown",
   "metadata": {},
   "source": [
    "#### 假设函数  \n",
    "$ \\hat{y} = h(x)= \\frac{1}{1+e^{-z}} = \\frac{1}{1+e^{-\\theta^T x}} $  "
   ]
  },
  {
   "cell_type": "markdown",
   "metadata": {},
   "source": [
    "#### 总结用到的框架工具"
   ]
  },
  {
   "cell_type": "markdown",
   "metadata": {},
   "source": [
    "- [sklearn](http://scikit-learn.org)\n",
    "- [numpy](https://github.com/teadocs/numpy-cn)\n",
    "- [scipy](https://docs.scipy.org/doc/scipy-0.19.0/reference/index.html)"
   ]
  },
  {
   "cell_type": "markdown",
   "metadata": {},
   "source": [
    "#### 微积分与线性代数基础回顾（谷良） \n",
    "[详情链接](https://github.com/TapasTech/EasyShare-ML/blob/master/%E9%AB%98%E6%95%B0%E7%BA%BF%E4%BB%A3%E5%9F%BA%E7%A1%80%E5%9B%9E%E9%A1%BE-%E8%B0%B7%E8%89%AF.ipynb)"
   ]
  },
  {
   "cell_type": "markdown",
   "metadata": {},
   "source": [
    "## 模型评估  \n",
    "目的：评估训练好的模型的表现(performance)"
   ]
  },
  {
   "cell_type": "markdown",
   "metadata": {},
   "source": [
    "机器学习的魔性训练环节经常遇到的问题  \n",
    "- 过拟合\n",
    "- 欠拟合"
   ]
  },
  {
   "cell_type": "markdown",
   "metadata": {},
   "source": [
    "<div><img src=\"./images/overfit.png\" align=\"left\" style=\"display:block\"/></div>   "
   ]
  },
  {
   "cell_type": "markdown",
   "metadata": {},
   "source": [
    "<img src=\"./images/underfit.jpg\" align=\"left\"/> "
   ]
  },
  {
   "cell_type": "markdown",
   "metadata": {},
   "source": [
    "### 泛化能力\n",
    "模型要能够适用于新的数据"
   ]
  },
  {
   "cell_type": "markdown",
   "metadata": {},
   "source": [
    "- 训练数据\n",
    "- 测试数据\n",
    "- 交叉验证"
   ]
  },
  {
   "cell_type": "markdown",
   "metadata": {},
   "source": [
    "### 回归问题"
   ]
  },
  {
   "cell_type": "markdown",
   "metadata": {},
   "source": [
    "#### 平方根误差(RMSE: root mean square error）  \n",
    "$ RMSE(y,\\hat{y}) = \\sqrt{ \\frac{\\sum_{i=1}^n (y_i - \\hat{y_i})^2} {n} } $"
   ]
  },
  {
   "cell_type": "markdown",
   "metadata": {},
   "source": [
    "#### 均方差（MSE: mean squared error） \n",
    "$ MSE(y,\\hat{y}) = \\frac{1}{n} \\sum_{i=1}^n (y_i - \\hat{y_i})^2 $"
   ]
  },
  {
   "cell_type": "markdown",
   "metadata": {},
   "source": [
    "#### 平均绝对误差（MAS: Mean Absolute Error）\n",
    "$ MAE(y,\\hat{y}) = \\frac{1}{n} \\sum_{i=1}^n |y_i - \\hat{y_i}| $"
   ]
  },
  {
   "cell_type": "markdown",
   "metadata": {},
   "source": [
    "### 分类问题"
   ]
  },
  {
   "cell_type": "markdown",
   "metadata": {},
   "source": [
    "鱼与熊掌不可兼得  \n",
    "衡量指标：\n",
    "- 正确率\n",
    "- 精准率\n",
    "- 召回率"
   ]
  },
  {
   "cell_type": "markdown",
   "metadata": {},
   "source": [
    "#### 混淆矩阵(Confusion Matrix)\n",
    "- 真阳性（True Positive，TP）：指被分类器正确分类的正例数据  \n",
    "- 真阴性（True Negative，TN）：指被分类器正确分类的负例数据  \n",
    "- 假阳性（False Positive，FP）：被错误地标记为正例数据的负例数据  \n",
    "- 假阴性（False Negative，FN）：被错误地标记为负例数据的正例数据"
   ]
  },
  {
   "cell_type": "markdown",
   "metadata": {},
   "source": [
    "| 实例 | 预测 | |\n",
    "| ------ | ------ | ------ |\n",
    "|  结果 | 1 | 0 |\n",
    "| 1 | TP | FN |\n",
    "| 0 | FP | TN |\n",
    "| 总计 | TP+FP | FN+TN |"
   ]
  },
  {
   "cell_type": "markdown",
   "metadata": {},
   "source": [
    "True, False 针对的是预测结果是否正确，Positive, Negative 针对的是预测结果为正还是负"
   ]
  },
  {
   "cell_type": "markdown",
   "metadata": {},
   "source": [
    "#### 精确率(Precision)\n",
    "强调的是“不能冤枉好人”\n",
    "所有分正确的正样本/所有预测为正类的样本数。  "
   ]
  },
  {
   "cell_type": "markdown",
   "metadata": {},
   "source": [
    "$ Precision= \\frac{TP}{TP+FP} $"
   ]
  },
  {
   "cell_type": "markdown",
   "metadata": {},
   "source": [
    "#### 召回率(Recall)\n",
    "强调的是“宁可错杀一千，不可放过一个”，不能有“漏网之鱼”  \n",
    "所有分正确的正样本/所有的正样本数: "
   ]
  },
  {
   "cell_type": "markdown",
   "metadata": {},
   "source": [
    "$ Recall=\\frac{TP}{TP+FN} $"
   ]
  },
  {
   "cell_type": "markdown",
   "metadata": {},
   "source": [
    "#### 正确率(accuracy)"
   ]
  },
  {
   "cell_type": "markdown",
   "metadata": {},
   "source": [
    "$ Accuracy = \\frac{TP+TN}{TP+FP+TN+FN} $"
   ]
  },
  {
   "cell_type": "markdown",
   "metadata": {},
   "source": []
  },
  {
   "cell_type": "markdown",
   "metadata": {},
   "source": [
    "#### F1-score\n",
    "精确率和召回率两者一般同时使用，F1-score中和了二者的评估  "
   ]
  },
  {
   "cell_type": "markdown",
   "metadata": {},
   "source": [
    "$ F_1score=\\frac{2 \\times Precision \\times Recall}{Precision+Recall} $"
   ]
  },
  {
   "cell_type": "markdown",
   "metadata": {},
   "source": []
  },
  {
   "cell_type": "markdown",
   "metadata": {},
   "source": [
    "### 分享一点轻松的话题"
   ]
  },
  {
   "cell_type": "markdown",
   "metadata": {},
   "source": [
    "- 温故而知新，可以为师矣《论语》  \n",
    "- 学而不思则罔，思而不学则殆《论语》  \n",
    "- 吾尝终日而思矣，不如须臾之所学也《荀子.劝学》  \n",
    "- 不积跬步，无以至千里《荀子.劝学》  "
   ]
  },
  {
   "cell_type": "markdown",
   "metadata": {},
   "source": [
    "温故知新：从训练数据中得出新数据的规律  \n",
    "学：增加训练数据  \n",
    "思：训练模型  \n",
    "跬步：每一次迭代的步长都很小，但是最终却能到达收敛"
   ]
  },
  {
   "cell_type": "markdown",
   "metadata": {},
   "source": [
    " "
   ]
  },
  {
   "cell_type": "code",
   "execution_count": null,
   "metadata": {},
   "outputs": [],
   "source": []
  }
 ],
 "metadata": {
  "kernelspec": {
   "display_name": "Python 3",
   "language": "python",
   "name": "python3"
  },
  "language_info": {
   "codemirror_mode": {
    "name": "ipython",
    "version": 3
   },
   "file_extension": ".py",
   "mimetype": "text/x-python",
   "name": "python",
   "nbconvert_exporter": "python",
   "pygments_lexer": "ipython3",
   "version": "3.6.5"
  },
  "toc": {
   "base_numbering": 1,
   "nav_menu": {},
   "number_sections": true,
   "sideBar": true,
   "skip_h1_title": false,
   "title_cell": "Table of Contents",
   "title_sidebar": "Contents",
   "toc_cell": false,
   "toc_position": {},
   "toc_section_display": true,
   "toc_window_display": false
  }
 },
 "nbformat": 4,
 "nbformat_minor": 2
}
