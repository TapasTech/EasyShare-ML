{
 "cells": [
  {
   "cell_type": "markdown",
   "metadata": {},
   "source": [
    "# NLP中的TF-IDF"
   ]
  },
  {
   "cell_type": "markdown",
   "metadata": {},
   "source": [
    "### 分享话题的背景：公司中诸多业务使用到NLP技术"
   ]
  },
  {
   "cell_type": "markdown",
   "metadata": {},
   "source": [
    "- 星数  \n",
    "    - 明星舆情\n",
    "    - 品牌-明星调性匹配\n",
    "- 城数  \n",
    "    - 酒店评论文本聚类\n",
    "- 投研  \n",
    "    - 文章自动分类"
   ]
  },
  {
   "cell_type": "markdown",
   "metadata": {},
   "source": [
    "## NLP简介"
   ]
  },
  {
   "cell_type": "markdown",
   "metadata": {},
   "source": [
    "全程：自然语言处理(Natural Language Processing)"
   ]
  },
  {
   "cell_type": "markdown",
   "metadata": {},
   "source": [
    "### 常见应用场景"
   ]
  },
  {
   "cell_type": "markdown",
   "metadata": {},
   "source": [
    "- 分类\n",
    "    - 垃圾邮件识别\n",
    "    - 新闻自动分类\n",
    "- 聚类\n",
    "    - 关键词聚类\n",
    "- 信息检索\n",
    "    - 搜索引擎\n",
    "    - 自动生成概要\n",
    "    - 关键词提取\n",
    "- 情感分析  \n",
    "- 机器翻译\n",
    "- 辅助输入\n",
    "    - 拼写检查，错字提示\n",
    "    - 语法纠错\n",
    "    - 自动补全\n",
    "    - 语音输入法\n",
    "- 聊天机器人\n",
    "    - Siri, Cortana, Echo & Elixa, 谷歌助手，天猫精灵，小度助手\n",
    "- 定向投放\n",
    "    - 基于用户搜索历史的广告推荐\n",
    "- Etc."
   ]
  },
  {
   "cell_type": "markdown",
   "metadata": {},
   "source": [
    "### 涉及的技术"
   ]
  },
  {
   "cell_type": "markdown",
   "metadata": {},
   "source": [
    "- 数据挖掘\n",
    "- 计算语言学(Computational Linguistics)\n",
    "    - 统计学派\n",
    "    - 规则学派"
   ]
  },
  {
   "cell_type": "markdown",
   "metadata": {},
   "source": [
    "## TF-IDF简介"
   ]
  },
  {
   "cell_type": "markdown",
   "metadata": {},
   "source": [
    "TF: 词频(Term Frequency)"
   ]
  },
  {
   "cell_type": "markdown",
   "metadata": {},
   "source": [
    "TF-IDF: 词频-逆文本频率(Term Frequency-Inverse Document Frequency)"
   ]
  },
  {
   "cell_type": "markdown",
   "metadata": {},
   "source": []
  },
  {
   "cell_type": "markdown",
   "metadata": {},
   "source": []
  },
  {
   "cell_type": "markdown",
   "metadata": {},
   "source": []
  },
  {
   "cell_type": "markdown",
   "metadata": {},
   "source": []
  },
  {
   "cell_type": "markdown",
   "metadata": {},
   "source": []
  },
  {
   "cell_type": "code",
   "execution_count": null,
   "metadata": {},
   "outputs": [],
   "source": []
  }
 ],
 "metadata": {
  "kernelspec": {
   "display_name": "Python 3",
   "language": "python",
   "name": "python3"
  },
  "language_info": {
   "codemirror_mode": {
    "name": "ipython",
    "version": 3
   },
   "file_extension": ".py",
   "mimetype": "text/x-python",
   "name": "python",
   "nbconvert_exporter": "python",
   "pygments_lexer": "ipython3",
   "version": "3.6.6"
  }
 },
 "nbformat": 4,
 "nbformat_minor": 2
}
