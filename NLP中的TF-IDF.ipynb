{
 "cells": [
  {
   "cell_type": "markdown",
   "metadata": {},
   "source": [
    "# NLP中的TF-IDF"
   ]
  },
  {
   "cell_type": "markdown",
   "metadata": {},
   "source": [
    "### 背景：公司中诸多业务使用到自然语言处理(NLP)技术"
   ]
  },
  {
   "cell_type": "markdown",
   "metadata": {},
   "source": [
    "- 星数  \n",
    "    - 明星舆情\n",
    "    - 品牌-明星调性匹配\n",
    "- 城数  \n",
    "    - 酒店评论文本聚类\n",
    "- 投研  \n",
    "    - 文章自动分类"
   ]
  },
  {
   "cell_type": "markdown",
   "metadata": {},
   "source": [
    "## NLP简介"
   ]
  },
  {
   "cell_type": "markdown",
   "metadata": {},
   "source": [
    "全称：自然语言处理(Natural Language Processing)    \n",
    "#### 引题：\n",
    "    - 什么是“自然语言”？\n",
    "    - “自然语言”与“信息”和“数据”之间有什么关系？"
   ]
  },
  {
   "cell_type": "markdown",
   "metadata": {},
   "source": [
    "#### 自然语言的传播形式    \n",
    "- 形式：口头 & 书面 (声音信号 & 视觉信号)\n",
    "- 方向：输入 & 输出"
   ]
  },
  {
   "cell_type": "markdown",
   "metadata": {},
   "source": [
    "| 方向/形式   |   口头   |   书面  | \n",
    "| :------: | :------:  | :------:|\n",
    "| 输入 | 听 (Listen)     |  读 (Read) |\n",
    "| 输出 |  说 (Speak)      |  写 (Write) |"
   ]
  },
  {
   "cell_type": "markdown",
   "metadata": {},
   "source": [
    "### NLP应用场景"
   ]
  },
  {
   "cell_type": "markdown",
   "metadata": {},
   "source": [
    "- 文本挖掘\n",
    "    - 分类\n",
    "        - 垃圾邮件识别\n",
    "        - 新闻自动分类\n",
    "    - 聚类\n",
    "        - 关键词聚类\n",
    "    - 情感分析  \n",
    "    - 定向投放\n",
    "        - 基于用户搜索历史的广告推荐\n",
    "- 信息提取\n",
    "    - 搜索\n",
    "    - 关键词提取\n",
    "    - 自动生成概要\n",
    "- 跨语言信息处理\n",
    "    - 书面翻译\n",
    "    - 同声传译\n",
    "- 人机交互\n",
    "    - 辅助输入\n",
    "        - 拼写检查，错字提示\n",
    "        - 语法纠错\n",
    "        - 自动补全\n",
    "        - 语音输入法\n",
    "    - 聊天机器人\n",
    "        - Siri, Cortana, Echo & Elixa, 谷歌助手，天猫精灵，小度助手\n",
    "- Etc."
   ]
  },
  {
   "cell_type": "markdown",
   "metadata": {},
   "source": [
    "### NLP涉及的技术"
   ]
  },
  {
   "cell_type": "markdown",
   "metadata": {},
   "source": [
    "- 数据挖掘\n",
    "- 计算语言学(Computational Linguistics)\n",
    "    - 统计学派 （数据量越多越好）\n",
    "    - 规则学派 （数据量越多越需要额外人力）"
   ]
  },
  {
   "cell_type": "markdown",
   "metadata": {},
   "source": [
    "## TF-IDF简介"
   ]
  },
  {
   "cell_type": "markdown",
   "metadata": {},
   "source": [
    "应用：信息检索，自动生成关键词"
   ]
  },
  {
   "cell_type": "markdown",
   "metadata": {},
   "source": [
    "#### TF: 词频(Term Frequency)"
   ]
  },
  {
   "cell_type": "markdown",
   "metadata": {},
   "source": [
    "表示某个词条在文章中出现的次数，计算方式："
   ]
  },
  {
   "cell_type": "markdown",
   "metadata": {},
   "source": [
    "- 词条频次\n",
    "    $ TF = 某个词条在文章中出现的次数 $"
   ]
  },
  {
   "cell_type": "markdown",
   "metadata": {},
   "source": [
    "- 词条频率\n",
    "    $ TF = \\frac{某个词条在文章中出现的次数}{当前文章总词条数} $"
   ]
  },
  {
   "cell_type": "markdown",
   "metadata": {},
   "source": [
    "- 相对词频\n",
    "    $ TF = \\frac{某个词条在文章中出现的次数}{当前文章中出现次数最多的词条出现的次数} $"
   ]
  },
  {
   "cell_type": "markdown",
   "metadata": {},
   "source": [
    "#### IDF: 逆文档频率指数(Inverse Document Frequency)"
   ]
  },
  {
   "cell_type": "markdown",
   "metadata": {},
   "source": [
    "语料库(corpus)：用于文本建模的所有训练数据"
   ]
  },
  {
   "cell_type": "markdown",
   "metadata": {},
   "source": [
    "计算某个词条的IDF:  \n",
    "$ IDF = log(\\frac{语料库总文档数}{包含该词条的文档数+1}) $"
   ]
  },
  {
   "cell_type": "markdown",
   "metadata": {},
   "source": [
    "#### TF-IDF: 词频-逆文档频率(Term Frequency-Inverse Document Frequency)"
   ]
  },
  {
   "cell_type": "markdown",
   "metadata": {},
   "source": [
    "TF-IDF与一个词条在文档中的出现次数成正比，与该词条在整个语言中的出现次数成反比。   \n",
    "计算TF-IDF：   \n",
    "$ TFIDF = {TF}\\times{IDF} $"
   ]
  },
  {
   "cell_type": "markdown",
   "metadata": {},
   "source": [
    "### TF-IDF应用举例"
   ]
  },
  {
   "cell_type": "markdown",
   "metadata": {},
   "source": [
    "#### 场景1：关键词搜索   \n",
    "搜索【原子能在中国电力行业中的应用】方面的论文时，搜索引擎后台通过比对文章的TF-IDF权重，结合[PageRank算法](https://zh.wikipedia.org/wiki/PageRank)，返回结果  "
   ]
  },
  {
   "cell_type": "markdown",
   "metadata": {},
   "source": [
    "- 分词    \n",
    "借助工具：[jieba中文分词](https://pypi.org/project/jieba/)   \n",
    "分词结果：\\[原子能, 在, 中国, 电力, 行业, 中, 的, 应用\\]"
   ]
  },
  {
   "cell_type": "markdown",
   "metadata": {},
   "source": [
    "- 停用词(stopword)   \n",
    "    - 使用极其普遍，与其他词相比，缺乏实际含义\n",
    "    - 中文：的，在，从，之，此，中，吧，呢，其...\n",
    "    - 英文：a, an, at, the, that, which, those, so...    \n",
    "- 移除停用词处理后：\\[原子能, 中国, 电力, 行业, 应用\\]"
   ]
  },
  {
   "cell_type": "markdown",
   "metadata": {},
   "source": [
    "- 假设：    \n",
    "    - 文章A共1000个词，其中\\[原子能, 中国, 电力, 行业, 应用\\]几个词都出现10次\n",
    "    - 语料库共一百万篇文章"
   ]
  },
  {
   "cell_type": "markdown",
   "metadata": {},
   "source": [
    "| 词   |   频次   |   TF  |   包含该词的文档数   |    IDF   | TF-IDF |\n",
    "| ---- | ------  | ----- |--------------------|  ------ | ------ |\n",
    "|原子能 | 10      |  0.01 |         100        |   9.20  | 0.0920 |\n",
    "| 中国 |  10      |  0.01 |        120000      |   2.12  | 0.0212 |\n",
    "| 电力 | 10       |  0.01 |         5000       |    5.30  | 0.0530 |\n",
    "| 行业 | 10       |  0.01 |        200000      |    1.61  | 0.0161 |\n",
    "| 应用 | 10       |  0.01 |        250000      |    1.38  | 0.0138 |\n",
    "| 发展 | 5        |  0.05 |        250000      |    1.38  | 0.0069 |\n",
    "| 核裂变| 20      |  0.02 |         100        |   9.20  | 0.1840 |"
   ]
  },
  {
   "cell_type": "markdown",
   "metadata": {},
   "source": [
    "文章A对于这一搜索的TF-IDF权重为：\n",
    "$  0.092 + 0.021 + 0.053 + 0.016 + 0.013 = 0.195  $   \n",
    "P.S. TF-IDF权重只是信息检索的一个方面"
   ]
  },
  {
   "cell_type": "markdown",
   "metadata": {},
   "source": [
    "#### 场景2：计算文章话题相似度"
   ]
  },
  {
   "cell_type": "markdown",
   "metadata": {},
   "source": [
    "场景1中，根据TF与IDF计算出TF-IDF后，可以看出，预测文章A的主题能力最强的词依次是”核裂变“，“原子能”，“电力”，其余词的权重较小。"
   ]
  },
  {
   "cell_type": "markdown",
   "metadata": {},
   "source": [
    "- 使用TF-IDF算法，找出两篇文章（文章A，文章B）的关键词\n",
    "- 每篇文章各取出若干个关键词（比如20个），合并成一个集合，计算每篇文章对于这个集合中的词的词频（可以使用相对词频以消除文章长度的差异）；\n",
    "- 生成两篇文章各自的词频向量；\n",
    "- 计算两个向量的余弦相似度，值越大就表示越相似。"
   ]
  },
  {
   "cell_type": "markdown",
   "metadata": {},
   "source": [
    "### 本话题下期预告：    \n",
    "余弦相似度详解，以及在实际项目中的应用（调性匹配与定制化调性筛选）"
   ]
  },
  {
   "cell_type": "markdown",
   "metadata": {},
   "source": []
  },
  {
   "cell_type": "markdown",
   "metadata": {},
   "source": []
  },
  {
   "cell_type": "markdown",
   "metadata": {},
   "source": []
  },
  {
   "cell_type": "markdown",
   "metadata": {},
   "source": []
  }
 ],
 "metadata": {
  "kernelspec": {
   "display_name": "Python 3",
   "language": "python",
   "name": "python3"
  },
  "language_info": {
   "codemirror_mode": {
    "name": "ipython",
    "version": 3
   },
   "file_extension": ".py",
   "mimetype": "text/x-python",
   "name": "python",
   "nbconvert_exporter": "python",
   "pygments_lexer": "ipython3",
   "version": "3.6.6"
  }
 },
 "nbformat": 4,
 "nbformat_minor": 2
}
